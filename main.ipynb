{
 "cells": [
  {
   "cell_type": "markdown",
   "metadata": {},
   "source": [
    "# Bike Accidents: Insights from Machine Learning\n",
    "\n",
    "--- \n",
    "\n",
    "**@author: [Arthur Gatignol](https://www.linkedin.com/in/arthur-gatignol-6388aa208/)**  \n",
    "**@date: 2024-09-23**  \n",
    "**@github: [github](https://github.com/arthur-gtgn)**  \n",
    "**@data: [data](https://www.data.gouv.fr/fr/datasets/accidents-de-velo/)**  \n",
    "\n",
    "---\n",
    "\n",
    "## Table of Contents\n",
    "\n",
    "1. [Introduction](#Introduction)\n",
    "2. [Data Preprocessing](#Data-Preprocessing)\n",
    "3. [Data Analysis and Visualization](#Data-Analysis-and-Visualization)\n",
    "4. [Machine Learning Model](#Machine-Learning-Model)\n",
    "\n",
    "---\n",
    "\n",
    "## Introduction\n",
    "\n",
    "This github repository contains all the files and code used to create the project \"Bike Accidents: Insights from Machine Learning\". The project is divided into 3 main parts: Data Preprocessing, Data Analysis and Visualization and finally a Machine Learning model used to predict the evolution of bike accidents over the years in France.\n",
    "\n",
    "The aim of this project is to provide a dahsboard made using streamlit that will allow the user to visualize the evolution of bike accidents in France over the years and to predict the number of accidents for the next years.\n",
    "\n",
    "---\n",
    "\n",
    "## Data Preprocessing\n",
    "\n",
    "**Importing necessary libraries**\n"
   ]
  },
  {
   "cell_type": "code",
   "execution_count": 1,
   "metadata": {},
   "outputs": [],
   "source": [
    "import pandas as pd\n",
    "import numpy as np\n",
    "import matplotlib.pyplot as plt\n",
    "import seaborn as sns\n",
    "import altair as alt\n",
    "import plotly.express as px\n",
    "import plotly.graph_objects as go\n",
    "from plotly.subplots import make_subplots"
   ]
  },
  {
   "cell_type": "code",
   "execution_count": null,
   "metadata": {},
   "outputs": [],
   "source": []
  }
 ],
 "metadata": {
  "kernelspec": {
   "display_name": "bike-ml",
   "language": "python",
   "name": "python3"
  },
  "language_info": {
   "codemirror_mode": {
    "name": "ipython",
    "version": 3
   },
   "file_extension": ".py",
   "mimetype": "text/x-python",
   "name": "python",
   "nbconvert_exporter": "python",
   "pygments_lexer": "ipython3",
   "version": "3.12.2"
  }
 },
 "nbformat": 4,
 "nbformat_minor": 2
}
